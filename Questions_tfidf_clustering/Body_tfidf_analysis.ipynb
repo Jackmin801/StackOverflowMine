{
  "nbformat": 4,
  "nbformat_minor": 0,
  "metadata": {
    "kernelspec": {
      "display_name": "Python 3",
      "language": "python",
      "name": "python3"
    },
    "language_info": {
      "codemirror_mode": {
        "name": "ipython",
        "version": 3
      },
      "file_extension": ".py",
      "mimetype": "text/x-python",
      "name": "python",
      "nbconvert_exporter": "python",
      "pygments_lexer": "ipython3",
      "version": "3.7.6"
    },
    "colab": {
      "name": "Body_tfidf_analysis.ipynb",
      "provenance": [],
      "collapsed_sections": []
    }
  },
  "cells": [
    {
      "cell_type": "code",
      "metadata": {
        "id": "1IwF1Ua0vxqw",
        "outputId": "400c1f21-387b-49be-c7a0-24b64d7c565c",
        "colab": {
          "base_uri": "https://localhost:8080/",
          "height": 119
        }
      },
      "source": [
        "!git clone https://github.com/Jackmin801/StackOverflowMine.git"
      ],
      "execution_count": 1,
      "outputs": [
        {
          "output_type": "stream",
          "text": [
            "Cloning into 'StackOverflowMine'...\n",
            "remote: Enumerating objects: 14, done.\u001b[K\n",
            "remote: Counting objects: 100% (14/14), done.\u001b[K\n",
            "remote: Compressing objects: 100% (14/14), done.\u001b[K\n",
            "remote: Total 14 (delta 1), reused 10 (delta 0), pack-reused 0\u001b[K\n",
            "Unpacking objects: 100% (14/14), done.\n"
          ],
          "name": "stdout"
        }
      ]
    },
    {
      "cell_type": "code",
      "metadata": {
        "id": "1yABiN4Wvp5q"
      },
      "source": [
        "import pandas as pd\n",
        "import numpy as np\n",
        "import matplotlib as mpl\n",
        "import matplotlib.pyplot as plt"
      ],
      "execution_count": 2,
      "outputs": []
    },
    {
      "cell_type": "code",
      "metadata": {
        "id": "fk0N-l9dvp5u"
      },
      "source": [
        "data = pd.read_csv('StackOverflowMine/JavaTop50000.csv')"
      ],
      "execution_count": 3,
      "outputs": []
    },
    {
      "cell_type": "code",
      "metadata": {
        "id": "h7Nmu9Kavp5x",
        "outputId": "48a0d291-2262-4948-e2f4-144316589cff",
        "colab": {
          "base_uri": "https://localhost:8080/",
          "height": 547
        }
      },
      "source": [
        "data.head()"
      ],
      "execution_count": 4,
      "outputs": [
        {
          "output_type": "execute_result",
          "data": {
            "text/html": [
              "<div>\n",
              "<style scoped>\n",
              "    .dataframe tbody tr th:only-of-type {\n",
              "        vertical-align: middle;\n",
              "    }\n",
              "\n",
              "    .dataframe tbody tr th {\n",
              "        vertical-align: top;\n",
              "    }\n",
              "\n",
              "    .dataframe thead th {\n",
              "        text-align: right;\n",
              "    }\n",
              "</style>\n",
              "<table border=\"1\" class=\"dataframe\">\n",
              "  <thead>\n",
              "    <tr style=\"text-align: right;\">\n",
              "      <th></th>\n",
              "      <th>Id</th>\n",
              "      <th>PostTypeId</th>\n",
              "      <th>AcceptedAnswerId</th>\n",
              "      <th>ParentId</th>\n",
              "      <th>CreationDate</th>\n",
              "      <th>DeletionDate</th>\n",
              "      <th>Score</th>\n",
              "      <th>ViewCount</th>\n",
              "      <th>Body</th>\n",
              "      <th>OwnerUserId</th>\n",
              "      <th>OwnerDisplayName</th>\n",
              "      <th>LastEditorUserId</th>\n",
              "      <th>LastEditorDisplayName</th>\n",
              "      <th>LastEditDate</th>\n",
              "      <th>LastActivityDate</th>\n",
              "      <th>Title</th>\n",
              "      <th>Tags</th>\n",
              "      <th>AnswerCount</th>\n",
              "      <th>CommentCount</th>\n",
              "      <th>FavoriteCount</th>\n",
              "      <th>ClosedDate</th>\n",
              "      <th>CommunityOwnedDate</th>\n",
              "      <th>ContentLicense</th>\n",
              "      <th>PostId</th>\n",
              "      <th>TagId</th>\n",
              "      <th>Id.1</th>\n",
              "      <th>TagName</th>\n",
              "      <th>Count</th>\n",
              "      <th>ExcerptPostId</th>\n",
              "      <th>WikiPostId</th>\n",
              "    </tr>\n",
              "  </thead>\n",
              "  <tbody>\n",
              "    <tr>\n",
              "      <th>0</th>\n",
              "      <td>11227809</td>\n",
              "      <td>1</td>\n",
              "      <td>11227902.0</td>\n",
              "      <td>NaN</td>\n",
              "      <td>2012-06-27 13:51:36</td>\n",
              "      <td>NaN</td>\n",
              "      <td>24856</td>\n",
              "      <td>1528592</td>\n",
              "      <td>&lt;p&gt;Here is a piece of C++ code that shows some...</td>\n",
              "      <td>87234.0</td>\n",
              "      <td>NaN</td>\n",
              "      <td>224132.0</td>\n",
              "      <td>NaN</td>\n",
              "      <td>2020-07-16 03:35:56</td>\n",
              "      <td>2020-09-15 02:13:25</td>\n",
              "      <td>Why is processing a sorted array faster than p...</td>\n",
              "      <td>&lt;java&gt;&lt;c++&gt;&lt;performance&gt;&lt;optimization&gt;&lt;branch-...</td>\n",
              "      <td>26</td>\n",
              "      <td>2</td>\n",
              "      <td>11113.0</td>\n",
              "      <td>NaN</td>\n",
              "      <td>NaN</td>\n",
              "      <td>CC BY-SA 4.0</td>\n",
              "      <td>11227809</td>\n",
              "      <td>17</td>\n",
              "      <td>17</td>\n",
              "      <td>java</td>\n",
              "      <td>1715860</td>\n",
              "      <td>3624966</td>\n",
              "      <td>3607018</td>\n",
              "    </tr>\n",
              "    <tr>\n",
              "      <th>1</th>\n",
              "      <td>6841333</td>\n",
              "      <td>1</td>\n",
              "      <td>6841479.0</td>\n",
              "      <td>NaN</td>\n",
              "      <td>2011-07-27 08:15:58</td>\n",
              "      <td>NaN</td>\n",
              "      <td>6935</td>\n",
              "      <td>667557</td>\n",
              "      <td>&lt;p&gt;If I run the following program, which parse...</td>\n",
              "      <td>342235.0</td>\n",
              "      <td>NaN</td>\n",
              "      <td>13602076.0</td>\n",
              "      <td>NaN</td>\n",
              "      <td>2020-07-14 19:07:57</td>\n",
              "      <td>2020-07-14 19:07:57</td>\n",
              "      <td>Why is subtracting these two times (in 1927) g...</td>\n",
              "      <td>&lt;java&gt;&lt;date&gt;&lt;timezone&gt;</td>\n",
              "      <td>10</td>\n",
              "      <td>5</td>\n",
              "      <td>1626.0</td>\n",
              "      <td>NaN</td>\n",
              "      <td>NaN</td>\n",
              "      <td>CC BY-SA 4.0</td>\n",
              "      <td>6841333</td>\n",
              "      <td>17</td>\n",
              "      <td>17</td>\n",
              "      <td>java</td>\n",
              "      <td>1715860</td>\n",
              "      <td>3624966</td>\n",
              "      <td>3607018</td>\n",
              "    </tr>\n",
              "    <tr>\n",
              "      <th>2</th>\n",
              "      <td>40480</td>\n",
              "      <td>1</td>\n",
              "      <td>NaN</td>\n",
              "      <td>NaN</td>\n",
              "      <td>2008-09-02 20:14:29</td>\n",
              "      <td>NaN</td>\n",
              "      <td>6724</td>\n",
              "      <td>2024594</td>\n",
              "      <td>&lt;p&gt;I always thought Java uses &lt;strong&gt;pass-by-...</td>\n",
              "      <td>4315.0</td>\n",
              "      <td>NaN</td>\n",
              "      <td>9622275.0</td>\n",
              "      <td>user4642421</td>\n",
              "      <td>2020-08-06 07:24:06</td>\n",
              "      <td>2020-09-16 15:00:21</td>\n",
              "      <td>Is Java \"pass-by-reference\" or \"pass-by-value\"?</td>\n",
              "      <td>&lt;java&gt;&lt;methods&gt;&lt;parameter-passing&gt;&lt;pass-by-ref...</td>\n",
              "      <td>81</td>\n",
              "      <td>1</td>\n",
              "      <td>3053.0</td>\n",
              "      <td>NaN</td>\n",
              "      <td>2012-09-14 18:22:55</td>\n",
              "      <td>CC BY-SA 4.0</td>\n",
              "      <td>40480</td>\n",
              "      <td>17</td>\n",
              "      <td>17</td>\n",
              "      <td>java</td>\n",
              "      <td>1715860</td>\n",
              "      <td>3624966</td>\n",
              "      <td>3607018</td>\n",
              "    </tr>\n",
              "    <tr>\n",
              "      <th>3</th>\n",
              "      <td>309424</td>\n",
              "      <td>1</td>\n",
              "      <td>309448.0</td>\n",
              "      <td>NaN</td>\n",
              "      <td>2008-11-21 16:47:40</td>\n",
              "      <td>NaN</td>\n",
              "      <td>4156</td>\n",
              "      <td>2158738</td>\n",
              "      <td>&lt;p&gt;If you have a &lt;code&gt;java.io.InputStream&lt;/co...</td>\n",
              "      <td>16616.0</td>\n",
              "      <td>Johnny Maelstrom</td>\n",
              "      <td>63550.0</td>\n",
              "      <td>NaN</td>\n",
              "      <td>2019-01-05 10:28:26</td>\n",
              "      <td>2020-04-05 00:03:47</td>\n",
              "      <td>How do I read / convert an InputStream into a ...</td>\n",
              "      <td>&lt;java&gt;&lt;string&gt;&lt;io&gt;&lt;stream&gt;&lt;inputstream&gt;</td>\n",
              "      <td>59</td>\n",
              "      <td>0</td>\n",
              "      <td>1193.0</td>\n",
              "      <td>NaN</td>\n",
              "      <td>NaN</td>\n",
              "      <td>CC BY-SA 4.0</td>\n",
              "      <td>309424</td>\n",
              "      <td>17</td>\n",
              "      <td>17</td>\n",
              "      <td>java</td>\n",
              "      <td>1715860</td>\n",
              "      <td>3624966</td>\n",
              "      <td>3607018</td>\n",
              "    </tr>\n",
              "    <tr>\n",
              "      <th>4</th>\n",
              "      <td>271526</td>\n",
              "      <td>1</td>\n",
              "      <td>271874.0</td>\n",
              "      <td>NaN</td>\n",
              "      <td>2008-11-07 08:31:40</td>\n",
              "      <td>NaN</td>\n",
              "      <td>4081</td>\n",
              "      <td>1267072</td>\n",
              "      <td>&lt;p&gt;I use &lt;code&gt;object != null&lt;/code&gt; a lot to ...</td>\n",
              "      <td>34856.0</td>\n",
              "      <td>Goran Martinic</td>\n",
              "      <td>11880324.0</td>\n",
              "      <td>cletus</td>\n",
              "      <td>2020-08-17 13:56:41</td>\n",
              "      <td>2020-08-17 13:56:41</td>\n",
              "      <td>How to avoid null checking in Java?</td>\n",
              "      <td>&lt;java&gt;&lt;object&gt;&lt;nullpointerexception&gt;&lt;null&gt;</td>\n",
              "      <td>62</td>\n",
              "      <td>30</td>\n",
              "      <td>1492.0</td>\n",
              "      <td>NaN</td>\n",
              "      <td>2011-10-21 09:02:37</td>\n",
              "      <td>CC BY-SA 4.0</td>\n",
              "      <td>271526</td>\n",
              "      <td>17</td>\n",
              "      <td>17</td>\n",
              "      <td>java</td>\n",
              "      <td>1715860</td>\n",
              "      <td>3624966</td>\n",
              "      <td>3607018</td>\n",
              "    </tr>\n",
              "  </tbody>\n",
              "</table>\n",
              "</div>"
            ],
            "text/plain": [
              "         Id  PostTypeId  AcceptedAnswerId  ...    Count ExcerptPostId  WikiPostId\n",
              "0  11227809           1        11227902.0  ...  1715860       3624966     3607018\n",
              "1   6841333           1         6841479.0  ...  1715860       3624966     3607018\n",
              "2     40480           1               NaN  ...  1715860       3624966     3607018\n",
              "3    309424           1          309448.0  ...  1715860       3624966     3607018\n",
              "4    271526           1          271874.0  ...  1715860       3624966     3607018\n",
              "\n",
              "[5 rows x 30 columns]"
            ]
          },
          "metadata": {
            "tags": []
          },
          "execution_count": 4
        }
      ]
    },
    {
      "cell_type": "code",
      "metadata": {
        "id": "gjetP-q7vp51",
        "outputId": "29109aee-e65c-4e97-8692-51b7f4971507",
        "colab": {
          "base_uri": "https://localhost:8080/",
          "height": 646
        }
      },
      "source": [
        "data.info()"
      ],
      "execution_count": 5,
      "outputs": [
        {
          "output_type": "stream",
          "text": [
            "<class 'pandas.core.frame.DataFrame'>\n",
            "RangeIndex: 50000 entries, 0 to 49999\n",
            "Data columns (total 30 columns):\n",
            " #   Column                 Non-Null Count  Dtype  \n",
            "---  ------                 --------------  -----  \n",
            " 0   Id                     50000 non-null  int64  \n",
            " 1   PostTypeId             50000 non-null  int64  \n",
            " 2   AcceptedAnswerId       40342 non-null  float64\n",
            " 3   ParentId               0 non-null      float64\n",
            " 4   CreationDate           50000 non-null  object \n",
            " 5   DeletionDate           0 non-null      float64\n",
            " 6   Score                  50000 non-null  int64  \n",
            " 7   ViewCount              50000 non-null  int64  \n",
            " 8   Body                   50000 non-null  object \n",
            " 9   OwnerUserId            48894 non-null  float64\n",
            " 10  OwnerDisplayName       3204 non-null   object \n",
            " 11  LastEditorUserId       37621 non-null  float64\n",
            " 12  LastEditorDisplayName  1895 non-null   object \n",
            " 13  LastEditDate           38097 non-null  object \n",
            " 14  LastActivityDate       50000 non-null  object \n",
            " 15  Title                  50000 non-null  object \n",
            " 16  Tags                   50000 non-null  object \n",
            " 17  AnswerCount            50000 non-null  int64  \n",
            " 18  CommentCount           50000 non-null  int64  \n",
            " 19  FavoriteCount          48090 non-null  float64\n",
            " 20  ClosedDate             4284 non-null   object \n",
            " 21  CommunityOwnedDate     288 non-null    object \n",
            " 22  ContentLicense         50000 non-null  object \n",
            " 23  PostId                 50000 non-null  int64  \n",
            " 24  TagId                  50000 non-null  int64  \n",
            " 25  Id.1                   50000 non-null  int64  \n",
            " 26  TagName                50000 non-null  object \n",
            " 27  Count                  50000 non-null  int64  \n",
            " 28  ExcerptPostId          50000 non-null  int64  \n",
            " 29  WikiPostId             50000 non-null  int64  \n",
            "dtypes: float64(6), int64(12), object(12)\n",
            "memory usage: 11.4+ MB\n"
          ],
          "name": "stdout"
        }
      ]
    },
    {
      "cell_type": "code",
      "metadata": {
        "id": "x5WvIh0y2gxS"
      },
      "source": [
        "clusters = pd.read_excel('Cluster100B.xlsx', sheet_name=None, index_col=0)\n",
        "clusters = pd.concat(clusters, ignore_index=True)"
      ],
      "execution_count": 8,
      "outputs": []
    },
    {
      "cell_type": "code",
      "metadata": {
        "id": "VLMd1Zvx2rD4"
      },
      "source": [
        "del clusters['Title']\n",
        "del clusters['ViewCount']"
      ],
      "execution_count": 9,
      "outputs": []
    },
    {
      "cell_type": "code",
      "metadata": {
        "id": "6CDpGqY14CJt"
      },
      "source": [
        "data = pd.merge(data, clusters, how='inner', on='Id')"
      ],
      "execution_count": 10,
      "outputs": []
    },
    {
      "cell_type": "code",
      "metadata": {
        "id": "TwDjWyOM4XWQ",
        "outputId": "74165ee6-ca21-41c6-8f35-07743768210e",
        "colab": {
          "base_uri": "https://localhost:8080/",
          "height": 204
        }
      },
      "source": [
        "data[['Title','Body','labels']].head()"
      ],
      "execution_count": 11,
      "outputs": [
        {
          "output_type": "execute_result",
          "data": {
            "text/html": [
              "<div>\n",
              "<style scoped>\n",
              "    .dataframe tbody tr th:only-of-type {\n",
              "        vertical-align: middle;\n",
              "    }\n",
              "\n",
              "    .dataframe tbody tr th {\n",
              "        vertical-align: top;\n",
              "    }\n",
              "\n",
              "    .dataframe thead th {\n",
              "        text-align: right;\n",
              "    }\n",
              "</style>\n",
              "<table border=\"1\" class=\"dataframe\">\n",
              "  <thead>\n",
              "    <tr style=\"text-align: right;\">\n",
              "      <th></th>\n",
              "      <th>Title</th>\n",
              "      <th>Body</th>\n",
              "      <th>labels</th>\n",
              "    </tr>\n",
              "  </thead>\n",
              "  <tbody>\n",
              "    <tr>\n",
              "      <th>0</th>\n",
              "      <td>Why is processing a sorted array faster than p...</td>\n",
              "      <td>&lt;p&gt;Here is a piece of C++ code that shows some...</td>\n",
              "      <td>67</td>\n",
              "    </tr>\n",
              "    <tr>\n",
              "      <th>1</th>\n",
              "      <td>Why is subtracting these two times (in 1927) g...</td>\n",
              "      <td>&lt;p&gt;If I run the following program, which parse...</td>\n",
              "      <td>66</td>\n",
              "    </tr>\n",
              "    <tr>\n",
              "      <th>2</th>\n",
              "      <td>Is Java \"pass-by-reference\" or \"pass-by-value\"?</td>\n",
              "      <td>&lt;p&gt;I always thought Java uses &lt;strong&gt;pass-by-...</td>\n",
              "      <td>19</td>\n",
              "    </tr>\n",
              "    <tr>\n",
              "      <th>3</th>\n",
              "      <td>How do I read / convert an InputStream into a ...</td>\n",
              "      <td>&lt;p&gt;If you have a &lt;code&gt;java.io.InputStream&lt;/co...</td>\n",
              "      <td>87</td>\n",
              "    </tr>\n",
              "    <tr>\n",
              "      <th>4</th>\n",
              "      <td>How to avoid null checking in Java?</td>\n",
              "      <td>&lt;p&gt;I use &lt;code&gt;object != null&lt;/code&gt; a lot to ...</td>\n",
              "      <td>3</td>\n",
              "    </tr>\n",
              "  </tbody>\n",
              "</table>\n",
              "</div>"
            ],
            "text/plain": [
              "                                               Title  ... labels\n",
              "0  Why is processing a sorted array faster than p...  ...     67\n",
              "1  Why is subtracting these two times (in 1927) g...  ...     66\n",
              "2    Is Java \"pass-by-reference\" or \"pass-by-value\"?  ...     19\n",
              "3  How do I read / convert an InputStream into a ...  ...     87\n",
              "4                How to avoid null checking in Java?  ...      3\n",
              "\n",
              "[5 rows x 3 columns]"
            ]
          },
          "metadata": {
            "tags": []
          },
          "execution_count": 11
        }
      ]
    },
    {
      "cell_type": "code",
      "metadata": {
        "id": "B7TxeH064vnY",
        "outputId": "80b1c7b5-c8c6-4319-881d-2b92eeb5f39c",
        "colab": {
          "base_uri": "https://localhost:8080/",
          "height": 419
        }
      },
      "source": [
        "data[['Title','Body','labels']][data['labels']==1]"
      ],
      "execution_count": 12,
      "outputs": [
        {
          "output_type": "execute_result",
          "data": {
            "text/html": [
              "<div>\n",
              "<style scoped>\n",
              "    .dataframe tbody tr th:only-of-type {\n",
              "        vertical-align: middle;\n",
              "    }\n",
              "\n",
              "    .dataframe tbody tr th {\n",
              "        vertical-align: top;\n",
              "    }\n",
              "\n",
              "    .dataframe thead th {\n",
              "        text-align: right;\n",
              "    }\n",
              "</style>\n",
              "<table border=\"1\" class=\"dataframe\">\n",
              "  <thead>\n",
              "    <tr style=\"text-align: right;\">\n",
              "      <th></th>\n",
              "      <th>Title</th>\n",
              "      <th>Body</th>\n",
              "      <th>labels</th>\n",
              "    </tr>\n",
              "  </thead>\n",
              "  <tbody>\n",
              "    <tr>\n",
              "      <th>166</th>\n",
              "      <td>Can I add jars to maven 2 build classpath with...</td>\n",
              "      <td>&lt;p&gt;Maven2 is driving me crazy during the exper...</td>\n",
              "      <td>1</td>\n",
              "    </tr>\n",
              "    <tr>\n",
              "      <th>678</th>\n",
              "      <td>How do I set the proxy to be used by the JVM</td>\n",
              "      <td>&lt;p&gt;Many times, a Java app needs to connect to ...</td>\n",
              "      <td>1</td>\n",
              "    </tr>\n",
              "    <tr>\n",
              "      <th>787</th>\n",
              "      <td>Maven parent pom vs modules pom</td>\n",
              "      <td>&lt;p&gt;There seem to be several ways to structure ...</td>\n",
              "      <td>1</td>\n",
              "    </tr>\n",
              "    <tr>\n",
              "      <th>885</th>\n",
              "      <td>What's the best way to validate an XML file ag...</td>\n",
              "      <td>&lt;p&gt;I'm generating some xml files that needs to...</td>\n",
              "      <td>1</td>\n",
              "    </tr>\n",
              "    <tr>\n",
              "      <th>967</th>\n",
              "      <td>In Java, how do I parse XML as a String instea...</td>\n",
              "      <td>&lt;p&gt;I have the following code: &lt;/p&gt;\\n\\n&lt;pre&gt;&lt;co...</td>\n",
              "      <td>1</td>\n",
              "    </tr>\n",
              "    <tr>\n",
              "      <th>...</th>\n",
              "      <td>...</td>\n",
              "      <td>...</td>\n",
              "      <td>...</td>\n",
              "    </tr>\n",
              "    <tr>\n",
              "      <th>49341</th>\n",
              "      <td>What is the correct META-INF directory locatio...</td>\n",
              "      <td>&lt;p&gt;Should a \"context.xml\" file for deploying a...</td>\n",
              "      <td>1</td>\n",
              "    </tr>\n",
              "    <tr>\n",
              "      <th>49413</th>\n",
              "      <td>Convert ivy.xml to pom.xml</td>\n",
              "      <td>&lt;p&gt;I have a ivy.xml - &lt;a href=\"https://gist.gi...</td>\n",
              "      <td>1</td>\n",
              "    </tr>\n",
              "    <tr>\n",
              "      <th>49698</th>\n",
              "      <td>What is the difference between Castor XML bind...</td>\n",
              "      <td>&lt;p&gt;What is the difference between Castor XML a...</td>\n",
              "      <td>1</td>\n",
              "    </tr>\n",
              "    <tr>\n",
              "      <th>49913</th>\n",
              "      <td>Are there faster XML parsers in Java than Xala...</td>\n",
              "      <td>&lt;p&gt;I haven't found many ways to increase the p...</td>\n",
              "      <td>1</td>\n",
              "    </tr>\n",
              "    <tr>\n",
              "      <th>49988</th>\n",
              "      <td>XML Diff and Merge</td>\n",
              "      <td>&lt;p&gt;I think i have a rather unique problem to s...</td>\n",
              "      <td>1</td>\n",
              "    </tr>\n",
              "  </tbody>\n",
              "</table>\n",
              "<p>312 rows × 3 columns</p>\n",
              "</div>"
            ],
            "text/plain": [
              "                                                   Title  ... labels\n",
              "166    Can I add jars to maven 2 build classpath with...  ...      1\n",
              "678         How do I set the proxy to be used by the JVM  ...      1\n",
              "787                      Maven parent pom vs modules pom  ...      1\n",
              "885    What's the best way to validate an XML file ag...  ...      1\n",
              "967    In Java, how do I parse XML as a String instea...  ...      1\n",
              "...                                                  ...  ...    ...\n",
              "49341  What is the correct META-INF directory locatio...  ...      1\n",
              "49413                         Convert ivy.xml to pom.xml  ...      1\n",
              "49698  What is the difference between Castor XML bind...  ...      1\n",
              "49913  Are there faster XML parsers in Java than Xala...  ...      1\n",
              "49988                                 XML Diff and Merge  ...      1\n",
              "\n",
              "[312 rows x 3 columns]"
            ]
          },
          "metadata": {
            "tags": []
          },
          "execution_count": 12
        }
      ]
    },
    {
      "cell_type": "code",
      "metadata": {
        "id": "79RVu6L3y9md",
        "outputId": "0752b1d0-4320-419f-8de7-8ef9f0dff702",
        "colab": {
          "base_uri": "https://localhost:8080/",
          "height": 51
        }
      },
      "source": [
        "import nltk\n",
        "nltk.download('punkt')\n",
        "from nltk.tokenize import word_tokenize, sent_tokenize"
      ],
      "execution_count": 13,
      "outputs": [
        {
          "output_type": "stream",
          "text": [
            "[nltk_data] Downloading package punkt to /root/nltk_data...\n",
            "[nltk_data]   Unzipping tokenizers/punkt.zip.\n"
          ],
          "name": "stdout"
        }
      ]
    },
    {
      "cell_type": "code",
      "metadata": {
        "id": "xlI_glUSvp54"
      },
      "source": [
        "titles = [word_tokenize(str.lower(title)) for title in data.Body.values]"
      ],
      "execution_count": 14,
      "outputs": []
    },
    {
      "cell_type": "code",
      "metadata": {
        "id": "iMdrdaeHzEA-",
        "outputId": "60b088be-12a2-4d52-e58d-3bed6de1fbe5",
        "colab": {
          "base_uri": "https://localhost:8080/",
          "height": 34
        }
      },
      "source": [
        "from collections import Counter\n",
        "\n",
        "\n",
        "# Create a Counter with the lowercase tokens: bow_simple\n",
        "bow_simple = Counter(titles[0])\n",
        "\n",
        "# Print the 10 most common tokens\n",
        "print(bow_simple.most_common(10))"
      ],
      "execution_count": 15,
      "outputs": [
        {
          "output_type": "stream",
          "text": [
            "[(';', 65), ('<', 36), ('>', 36), ('&', 30), ('(', 24), (')', 24), ('=', 21), ('lt', 20), ('data', 18), ('c', 14)]\n"
          ],
          "name": "stdout"
        }
      ]
    },
    {
      "cell_type": "code",
      "metadata": {
        "id": "NTngOO6iz-8S",
        "outputId": "1f216f9b-90cf-478e-850d-d5e5e4e10c3e",
        "colab": {
          "base_uri": "https://localhost:8080/",
          "height": 187
        }
      },
      "source": [
        "# Import Dictionary\n",
        "from gensim.corpora.dictionary import Dictionary\n",
        "\n",
        "# Create a Dictionary from the articles: dictionary\n",
        "dictionary = Dictionary(titles)\n",
        "\n",
        "# Use computer_id with the dictionary to print the word\n",
        "print(dictionary.token2id)\n",
        "\n"
      ],
      "execution_count": 16,
      "outputs": [
        {
          "output_type": "stream",
          "text": [
            "IOPub data rate exceeded.\n",
            "The notebook server will temporarily stop sending output\n",
            "to the client in order to avoid crashing it.\n",
            "To change this limit, set the config variable\n",
            "`--NotebookApp.iopub_data_rate_limit`.\n",
            "\n",
            "Current values:\n",
            "NotebookApp.iopub_data_rate_limit=1000000.0 (bytes/sec)\n",
            "NotebookApp.rate_limit_window=3.0 (secs)\n",
            "\n"
          ],
          "name": "stderr"
        }
      ]
    },
    {
      "cell_type": "code",
      "metadata": {
        "id": "gErA5-at0Lb9",
        "outputId": "85cbdf7d-8128-4cad-9f44-af9660f5e697",
        "colab": {
          "base_uri": "https://localhost:8080/",
          "height": 34
        }
      },
      "source": [
        "corpus = [dictionary.doc2bow(title) for title in titles]\n",
        "\n",
        "# Print the first 10 word ids with their frequency counts from the fifth document\n",
        "print(corpus[4][:10])"
      ],
      "execution_count": 17,
      "outputs": [
        {
          "output_type": "stream",
          "text": [
            "[(0, 2), (4, 8), (5, 2), (6, 2), (11, 1), (13, 1), (17, 2), (18, 5), (20, 5), (21, 1)]\n"
          ],
          "name": "stdout"
        }
      ]
    },
    {
      "cell_type": "code",
      "metadata": {
        "id": "TrP2_UZtFr-M"
      },
      "source": [
        "from gensim.models.tfidfmodel import TfidfModel\n",
        "# Create a new TfidfModel using the corpus: tfidf\n",
        "tfidf = TfidfModel(corpus)"
      ],
      "execution_count": 18,
      "outputs": []
    },
    {
      "cell_type": "code",
      "metadata": {
        "id": "bs5MUTutXjHp",
        "outputId": "f74791a6-5f9c-4eba-c8de-e2193be93f1d",
        "colab": {
          "base_uri": "https://localhost:8080/",
          "height": 34
        }
      },
      "source": [
        "tfidf[[(0,1),(15,1)]]"
      ],
      "execution_count": 19,
      "outputs": [
        {
          "output_type": "execute_result",
          "data": {
            "text/plain": [
              "[(0, 0.6752269818853636), (15, 0.7376100073439776)]"
            ]
          },
          "metadata": {
            "tags": []
          },
          "execution_count": 19
        }
      ]
    },
    {
      "cell_type": "code",
      "metadata": {
        "id": "cflS6flHCrvA",
        "outputId": "790755db-92c7-4bfe-a45c-a821be2ef1ce",
        "colab": {
          "base_uri": "https://localhost:8080/",
          "height": 204
        }
      },
      "source": [
        "# Calculate the tfidf weights of doc: tfidf_weights\n",
        "tfidf_weights = tfidf[corpus[140]]\n",
        "\n",
        "# Print the first five weights\n",
        "print(tfidf_weights[:1])\n",
        "\n",
        "# Sort the weights from highest to lowest: sorted_tfidf_weights\n",
        "sorted_tfidf_weights = sorted(tfidf_weights, key=lambda w: w[1], reverse=True)\n",
        "\n",
        "# Print the top 5 weighted words\n",
        "for term_id, weight in sorted_tfidf_weights[:10]:\n",
        "    print(dictionary.get(term_id), weight)"
      ],
      "execution_count": 20,
      "outputs": [
        {
          "output_type": "stream",
          "text": [
            "[(3, 0.2119144145094103)]\n",
            "animal 0.5940283225148921\n",
            "list 0.2528284574172832\n",
            "animals 0.23655348807848028\n",
            "& 0.2119144145094103\n",
            "polymorphism 0.20705419463311528\n",
            "dog 0.19296825151294686\n",
            "cat 0.1822236187489883\n",
            "dosomething 0.17407047055774655\n",
            "inheritance 0.16892895609057637\n",
            "generics 0.15842776874223136\n"
          ],
          "name": "stdout"
        }
      ]
    },
    {
      "cell_type": "code",
      "metadata": {
        "id": "h5pf22q8DmC0"
      },
      "source": [
        "group_1 = data[data['labels']==1].index.values"
      ],
      "execution_count": 21,
      "outputs": []
    },
    {
      "cell_type": "code",
      "metadata": {
        "id": "sHceRP-MD4KF"
      },
      "source": [
        "from collections import defaultdict\n",
        "meow = defaultdict(lambda: 0)\n",
        "for i in group_1:\n",
        "  tfidf_weights = tfidf[corpus[i]]\n",
        "  sorted_tfidf_weights = sorted(tfidf_weights, key=lambda w: w[1], reverse=True)\n",
        "  for term_id, weight in sorted_tfidf_weights[:5]:\n",
        "    meow[term_id] += 1\n"
      ],
      "execution_count": 22,
      "outputs": []
    },
    {
      "cell_type": "code",
      "metadata": {
        "id": "d5zrrJMlFStX",
        "outputId": "3f034c0b-cd3d-4b60-f6ba-70b09e21c02c",
        "colab": {
          "base_uri": "https://localhost:8080/",
          "height": 187
        }
      },
      "source": [
        "top_10 = sorted(meow.items(), key=lambda item: item[1], reverse=True)[:10]\n",
        "for i in top_10:\n",
        "  print(dictionary.get(i[0]),i[1])"
      ],
      "execution_count": 23,
      "outputs": [
        {
          "output_type": "stream",
          "text": [
            "xml 68\n",
            "schema 16\n",
            "document 11\n",
            "xsd 9\n",
            "jaxb 9\n",
            "sax 9\n",
            "file 8\n",
            "import 7\n",
            "streamresult 7\n",
            "& 7\n"
          ],
          "name": "stdout"
        }
      ]
    },
    {
      "cell_type": "code",
      "metadata": {
        "id": "ujy4b1lTGxzF"
      },
      "source": [
        "from collections import defaultdict\n",
        "def get_top_10_tfidf(n):\n",
        "  group = data[data['labels']==n].index.values\n",
        "  meow = defaultdict(lambda: 0)\n",
        "  for i in group:\n",
        "    tfidf_weights = tfidf[corpus[i]]\n",
        "    sorted_tfidf_weights = sorted(tfidf_weights, key=lambda w: w[1], reverse=True)\n",
        "    for term_id, weight in sorted_tfidf_weights[:5]:\n",
        "      meow[term_id] += 1\n",
        "  top_10 = sorted(meow.items(), key=lambda item: item[1], reverse=True)[:10]\n",
        "  ret=[]\n",
        "  for i in top_10:\n",
        "    #print(dictionary.get(i[0]),i[1])\n",
        "    ret.append((dictionary.get(i[0]),i[1]/len(group)))\n",
        "  return ret"
      ],
      "execution_count": 24,
      "outputs": []
    },
    {
      "cell_type": "code",
      "metadata": {
        "id": "YgBaeLSSHPkS"
      },
      "source": [
        "highest = [ranks[0] for ranks in [get_top_10_tfidf(i) for i in range(100)]]"
      ],
      "execution_count": 25,
      "outputs": []
    },
    {
      "cell_type": "code",
      "metadata": {
        "id": "SPtj6spzIgT7",
        "outputId": "11782c0a-3fae-43f3-f301-791d32533257",
        "colab": {
          "base_uri": "https://localhost:8080/",
          "height": 1000
        }
      },
      "source": [
        "for i,h in enumerate(highest):\n",
        "  print(i,h)"
      ],
      "execution_count": 26,
      "outputs": [
        {
          "output_type": "stream",
          "text": [
            "0 ('static', 0.18340611353711792)\n",
            "1 ('xml', 0.21794871794871795)\n",
            "2 ('android', 0.2287145242070117)\n",
            "3 ('%', 0.06405693950177936)\n",
            "4 ('bigdecimal', 0.9230769230769231)\n",
            "5 ('spring', 0.20473773265651438)\n",
            "6 ('at', 0.7410179640718563)\n",
            "7 ('/kbd', 0.9512195121951219)\n",
            "8 ('int', 0.23963133640552994)\n",
            "9 ('enum', 0.7938144329896907)\n",
            "10 ('@', 0.24660194174757283)\n",
            "11 ('/li', 0.6957575757575758)\n",
            "12 ('maven', 0.3687707641196013)\n",
            "13 ('test', 0.36699029126213595)\n",
            "14 ('stream', 0.4239766081871345)\n",
            "15 ('server', 0.21298701298701297)\n",
            "16 ('date', 0.34057971014492755)\n",
            "17 ('foo', 0.635593220338983)\n",
            "18 ('file', 0.3492286115007013)\n",
            "19 ('br', 0.02860858257477243)\n",
            "20 ('exception', 0.14496314496314497)\n",
            "21 ('intellij', 0.49361702127659574)\n",
            "22 ('thread', 0.5009523809523809)\n",
            "23 ('node', 0.6814814814814815)\n",
            "24 ('person', 0.8324607329842932)\n",
            "25 ('log4j', 0.432258064516129)\n",
            "26 ('properties', 0.40869565217391307)\n",
            "27 ('gson', 0.6068965517241379)\n",
            "28 ('&', 0.4161073825503356)\n",
            "29 ('b', 0.024139702105803802)\n",
            "30 ('eclipse', 0.2823741007194245)\n",
            "31 ('hashcode', 0.5671641791044776)\n",
            "32 ('random', 0.7286821705426356)\n",
            "33 ('user', 0.478125)\n",
            "34 ('unknown', 0.9083969465648855)\n",
            "35 ('word', 0.5504587155963303)\n",
            "36 ('abstract', 0.17543859649122806)\n",
            "37 ('calendar', 0.24516129032258063)\n",
            "38 ('key', 0.4329268292682927)\n",
            "39 ('hibernate', 0.281767955801105)\n",
            "40 ('constructor', 0.6747572815533981)\n",
            "41 ('memory', 0.3740053050397878)\n",
            "42 ('connection', 0.20277777777777778)\n",
            "43 ('gradle', 0.3942307692307692)\n",
            "44 ('icon', 0.75)\n",
            "45 ('obj', 0.6298701298701299)\n",
            "46 ('stack', 0.023017902813299233)\n",
            "47 ('android', 0.9371069182389937)\n",
            "48 ('at', 0.5904255319148937)\n",
            "49 ('map', 0.4654255319148936)\n",
            "50 ('/li', 0.05624591236102027)\n",
            "51 ('keystore', 0.3203463203463203)\n",
            "52 ('jre', 0.552)\n",
            "53 ('image', 0.42745098039215684)\n",
            "54 ('/em', 0.2638888888888889)\n",
            "55 (\"''\", 0.1717171717171717)\n",
            "56 ('system.out.println', 0.07544378698224852)\n",
            "57 ('difference', 0.2695035460992908)\n",
            "58 ('web', 0.2006079027355623)\n",
            "59 ('project', 0.5)\n",
            "60 ('request', 0.14314115308151093)\n",
            "61 ('date', 0.5955678670360111)\n",
            "62 ('we', 0.021018593371059015)\n",
            "63 ('socket', 0.6635514018691588)\n",
            "64 ('intent', 0.17067833698030635)\n",
            "65 ('double', 0.5787965616045845)\n",
            "66 ('quot', 0.9791666666666666)\n",
            "67 ('&', 0.6510161177295024)\n",
            "68 (\"'\", 0.009507640067911714)\n",
            "69 ('at', 0.7403846153846154)\n",
            "70 ('json', 0.35917312661498707)\n",
            "71 ('&', 1.0)\n",
            "72 ('byte', 0.8102189781021898)\n",
            "73 ('--', 0.018251157722691366)\n",
            "74 ('button', 0.5958549222797928)\n",
            "75 ('jdk', 0.17391304347826086)\n",
            "76 ('selenium', 0.24855491329479767)\n",
            "77 ('package', 0.36464088397790057)\n",
            "78 ('jar', 0.3968609865470852)\n",
            "79 ('list', 0.5119236883942766)\n",
            "80 ('tomcat', 0.06340819022457067)\n",
            "81 ('difference', 0.27876106194690264)\n",
            "82 ('hello', 0.5314685314685315)\n",
            "83 ('-xx', 0.5943396226415094)\n",
            "84 ('import', 0.15034965034965034)\n",
            "85 ('/strong', 0.22959183673469388)\n",
            "86 ('queue', 0.012974976830398516)\n",
            "87 ('inputstream', 0.4794520547945205)\n",
            "88 (\"''\", 0.03690987124463519)\n",
            "89 ('boolean', 0.2896825396825397)\n",
            "90 ('bufferedreader', 0.3401015228426396)\n",
            "91 ('excel', 0.2631578947368421)\n",
            "92 ('&', 0.9970631424375918)\n",
            "93 ('text', 0.41729323308270677)\n",
            "94 ('url', 0.4823529411764706)\n",
            "95 ('array', 0.6134020618556701)\n",
            "96 ('arraylist', 0.7117117117117117)\n",
            "97 ('break', 0.3769230769230769)\n",
            "98 ('import', 0.0379746835443038)\n",
            "99 ('path', 0.38341968911917096)\n"
          ],
          "name": "stdout"
        }
      ]
    },
    {
      "cell_type": "code",
      "metadata": {
        "id": "ViylY3pAI-Pp",
        "outputId": "75236337-5c16-40e2-cd0b-93c9bff5e7f1",
        "colab": {
          "base_uri": "https://localhost:8080/",
          "height": 669
        }
      },
      "source": [
        "df = pd.DataFrame(highest, columns=['Term','Ratio'])\n",
        "df.sort_values(by='Ratio')[80:]"
      ],
      "execution_count": 28,
      "outputs": [
        {
          "output_type": "execute_result",
          "data": {
            "text/html": [
              "<div>\n",
              "<style scoped>\n",
              "    .dataframe tbody tr th:only-of-type {\n",
              "        vertical-align: middle;\n",
              "    }\n",
              "\n",
              "    .dataframe tbody tr th {\n",
              "        vertical-align: top;\n",
              "    }\n",
              "\n",
              "    .dataframe thead th {\n",
              "        text-align: right;\n",
              "    }\n",
              "</style>\n",
              "<table border=\"1\" class=\"dataframe\">\n",
              "  <thead>\n",
              "    <tr style=\"text-align: right;\">\n",
              "      <th></th>\n",
              "      <th>Term</th>\n",
              "      <th>Ratio</th>\n",
              "    </tr>\n",
              "  </thead>\n",
              "  <tbody>\n",
              "    <tr>\n",
              "      <th>67</th>\n",
              "      <td>&amp;</td>\n",
              "      <td>0.651016</td>\n",
              "    </tr>\n",
              "    <tr>\n",
              "      <th>63</th>\n",
              "      <td>socket</td>\n",
              "      <td>0.663551</td>\n",
              "    </tr>\n",
              "    <tr>\n",
              "      <th>40</th>\n",
              "      <td>constructor</td>\n",
              "      <td>0.674757</td>\n",
              "    </tr>\n",
              "    <tr>\n",
              "      <th>23</th>\n",
              "      <td>node</td>\n",
              "      <td>0.681481</td>\n",
              "    </tr>\n",
              "    <tr>\n",
              "      <th>11</th>\n",
              "      <td>/li</td>\n",
              "      <td>0.695758</td>\n",
              "    </tr>\n",
              "    <tr>\n",
              "      <th>96</th>\n",
              "      <td>arraylist</td>\n",
              "      <td>0.711712</td>\n",
              "    </tr>\n",
              "    <tr>\n",
              "      <th>32</th>\n",
              "      <td>random</td>\n",
              "      <td>0.728682</td>\n",
              "    </tr>\n",
              "    <tr>\n",
              "      <th>69</th>\n",
              "      <td>at</td>\n",
              "      <td>0.740385</td>\n",
              "    </tr>\n",
              "    <tr>\n",
              "      <th>6</th>\n",
              "      <td>at</td>\n",
              "      <td>0.741018</td>\n",
              "    </tr>\n",
              "    <tr>\n",
              "      <th>44</th>\n",
              "      <td>icon</td>\n",
              "      <td>0.750000</td>\n",
              "    </tr>\n",
              "    <tr>\n",
              "      <th>9</th>\n",
              "      <td>enum</td>\n",
              "      <td>0.793814</td>\n",
              "    </tr>\n",
              "    <tr>\n",
              "      <th>72</th>\n",
              "      <td>byte</td>\n",
              "      <td>0.810219</td>\n",
              "    </tr>\n",
              "    <tr>\n",
              "      <th>24</th>\n",
              "      <td>person</td>\n",
              "      <td>0.832461</td>\n",
              "    </tr>\n",
              "    <tr>\n",
              "      <th>34</th>\n",
              "      <td>unknown</td>\n",
              "      <td>0.908397</td>\n",
              "    </tr>\n",
              "    <tr>\n",
              "      <th>4</th>\n",
              "      <td>bigdecimal</td>\n",
              "      <td>0.923077</td>\n",
              "    </tr>\n",
              "    <tr>\n",
              "      <th>47</th>\n",
              "      <td>android</td>\n",
              "      <td>0.937107</td>\n",
              "    </tr>\n",
              "    <tr>\n",
              "      <th>7</th>\n",
              "      <td>/kbd</td>\n",
              "      <td>0.951220</td>\n",
              "    </tr>\n",
              "    <tr>\n",
              "      <th>66</th>\n",
              "      <td>quot</td>\n",
              "      <td>0.979167</td>\n",
              "    </tr>\n",
              "    <tr>\n",
              "      <th>92</th>\n",
              "      <td>&amp;</td>\n",
              "      <td>0.997063</td>\n",
              "    </tr>\n",
              "    <tr>\n",
              "      <th>71</th>\n",
              "      <td>&amp;</td>\n",
              "      <td>1.000000</td>\n",
              "    </tr>\n",
              "  </tbody>\n",
              "</table>\n",
              "</div>"
            ],
            "text/plain": [
              "           Term     Ratio\n",
              "67            &  0.651016\n",
              "63       socket  0.663551\n",
              "40  constructor  0.674757\n",
              "23         node  0.681481\n",
              "11          /li  0.695758\n",
              "96    arraylist  0.711712\n",
              "32       random  0.728682\n",
              "69           at  0.740385\n",
              "6            at  0.741018\n",
              "44         icon  0.750000\n",
              "9          enum  0.793814\n",
              "72         byte  0.810219\n",
              "24       person  0.832461\n",
              "34      unknown  0.908397\n",
              "4    bigdecimal  0.923077\n",
              "47      android  0.937107\n",
              "7          /kbd  0.951220\n",
              "66         quot  0.979167\n",
              "92            &  0.997063\n",
              "71            &  1.000000"
            ]
          },
          "metadata": {
            "tags": []
          },
          "execution_count": 28
        }
      ]
    },
    {
      "cell_type": "code",
      "metadata": {
        "id": "NGC9hNDBYFIB"
      },
      "source": [
        ""
      ],
      "execution_count": null,
      "outputs": []
    }
  ]
}